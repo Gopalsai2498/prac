{
 "cells": [
  {
   "cell_type": "code",
   "execution_count": 1,
   "metadata": {},
   "outputs": [
    {
     "name": "stdout",
     "output_type": "stream",
     "text": [
      "Collecting pulp\n",
      "  Downloading https://files.pythonhosted.org/packages/fb/34/ff5915ff6bae91cfb7c4cc22c3c369a6aea0b2127045dd5f308a91c260ac/PuLP-2.0-py3-none-any.whl (39.2MB)\n",
      "Requirement already satisfied: pyparsing>=2.0.1 in c:\\programdata\\anaconda3\\lib\\site-packages (from pulp) (2.3.1)\n",
      "Installing collected packages: pulp\n",
      "Successfully installed pulp-2.0\n",
      "Note: you may need to restart the kernel to use updated packages.\n"
     ]
    }
   ],
   "source": [
    "pip install pulp"
   ]
  },
  {
   "cell_type": "code",
   "execution_count": 3,
   "metadata": {},
   "outputs": [
    {
     "name": "stdout",
     "output_type": "stream",
     "text": [
      "Decision Variable Values:\n",
      "D = 252.0\n",
      "S = 540.0\n",
      "\n",
      "Maximum Profit:\n"
     ]
    },
    {
     "data": {
      "text/plain": [
       "7668.0"
      ]
     },
     "execution_count": 3,
     "metadata": {},
     "output_type": "execute_result"
    }
   ],
   "source": [
    "import pulp\n",
    "\n",
    "D=pulp.LpVariable('D',lowBound=0)\n",
    "S=pulp.LpVariable('S',lowBound=0)\n",
    "\n",
    "profit=pulp.LpProblem('Maximum Profit',pulp.LpMaximize)\n",
    "profit+=10*S+9*D,'Objective Function'\n",
    "profit+=7/10*S+D<=630,'Constraint for Cutting & Dyeing'\n",
    "profit+=1/2*S+5/6*D<=600,'Constraint for Sewing'\n",
    "profit+=S+2/3*D<=708,'Constraint for Finishing'\n",
    "profit+=1/10*S+1/4*D<=135,'Constraint for I&P'\n",
    "\n",
    "profit.solve()\n",
    "\n",
    "print('Decision Variable Values:')\n",
    "\n",
    "for variable in profit.variables():\n",
    "    print(variable.name,'=',variable.varValue)\n",
    "    \n",
    "\n",
    "print('\\nMaximum Profit:')\n",
    "pulp.value(profit.objective)"
   ]
  },
  {
   "cell_type": "code",
   "execution_count": null,
   "metadata": {},
   "outputs": [],
   "source": []
  },
  {
   "cell_type": "code",
   "execution_count": null,
   "metadata": {},
   "outputs": [],
   "source": []
  }
 ],
 "metadata": {
  "kernelspec": {
   "display_name": "Python 3",
   "language": "python",
   "name": "python3"
  },
  "language_info": {
   "codemirror_mode": {
    "name": "ipython",
    "version": 3
   },
   "file_extension": ".py",
   "mimetype": "text/x-python",
   "name": "python",
   "nbconvert_exporter": "python",
   "pygments_lexer": "ipython3",
   "version": "3.7.3"
  }
 },
 "nbformat": 4,
 "nbformat_minor": 2
}
